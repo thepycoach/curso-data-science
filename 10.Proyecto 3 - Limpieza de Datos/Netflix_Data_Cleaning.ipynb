{
 "cells": [
  {
   "cell_type": "code",
   "execution_count": 1,
   "metadata": {},
   "outputs": [],
   "source": [
    "import pandas as pd\n",
    "import re\n",
    "import numpy as np\n",
    "import math\n",
    "import matplotlib.pyplot as plt\n",
    "import seaborn as sns\n",
    "sns.set_style(\"darkgrid\")"
   ]
  },
  {
   "cell_type": "markdown",
   "metadata": {},
   "source": [
    "# Netflix Catalog (2019)"
   ]
  },
  {
   "cell_type": "code",
   "execution_count": 2,
   "metadata": {},
   "outputs": [],
   "source": [
    "#read data\n",
    "df_netflix_2019 = pd.read_csv('netflix_titles.csv')"
   ]
  },
  {
   "cell_type": "markdown",
   "metadata": {},
   "source": [
    "### Data Overview"
   ]
  },
  {
   "cell_type": "code",
   "execution_count": 3,
   "metadata": {},
   "outputs": [
    {
     "data": {
      "text/plain": [
       "director        1969\n",
       "cast             570\n",
       "country          476\n",
       "date_added        11\n",
       "rating            10\n",
       "show_id            0\n",
       "type               0\n",
       "title              0\n",
       "release_year       0\n",
       "duration           0\n",
       "listed_in          0\n",
       "description        0\n",
       "dtype: int64"
      ]
     },
     "execution_count": 3,
     "metadata": {},
     "output_type": "execute_result"
    }
   ],
   "source": [
    "df_netflix_2019.isnull().sum().sort_values(ascending=False)"
   ]
  },
  {
   "cell_type": "code",
   "execution_count": 4,
   "metadata": {},
   "outputs": [
    {
     "data": {
      "text/plain": [
       "show_id          int64\n",
       "type            object\n",
       "title           object\n",
       "director        object\n",
       "cast            object\n",
       "country         object\n",
       "date_added      object\n",
       "release_year     int64\n",
       "rating          object\n",
       "duration        object\n",
       "listed_in       object\n",
       "description     object\n",
       "dtype: object"
      ]
     },
     "execution_count": 4,
     "metadata": {},
     "output_type": "execute_result"
    }
   ],
   "source": [
    "#overview\n",
    "df_netflix_2019.dtypes"
   ]
  },
  {
   "cell_type": "code",
   "execution_count": 5,
   "metadata": {},
   "outputs": [
    {
     "data": {
      "text/plain": [
       "(6234, 12)"
      ]
     },
     "execution_count": 5,
     "metadata": {},
     "output_type": "execute_result"
    }
   ],
   "source": [
    "df_netflix_2019.shape"
   ]
  },
  {
   "cell_type": "markdown",
   "metadata": {},
   "source": [
    "### Identifying Missing Data"
   ]
  },
  {
   "cell_type": "code",
   "execution_count": 6,
   "metadata": {},
   "outputs": [
    {
     "name": "stdout",
     "output_type": "stream",
     "text": [
      "show_id: 0.0%\n",
      "type: 0.0%\n",
      "title: 0.0%\n",
      "director: 31.58%\n",
      "cast: 9.14%\n",
      "country: 7.64%\n",
      "date_added: 0.18%\n",
      "release_year: 0.0%\n",
      "rating: 0.16%\n",
      "duration: 0.0%\n",
      "listed_in: 0.0%\n",
      "description: 0.0%\n"
     ]
    }
   ],
   "source": [
    "# number of rows missing in each column\n",
    "# df_netflix_2019.isnull().sum()\n",
    "# % of rows missing in each column\n",
    "for column in df_netflix_2019.columns:\n",
    "    percentage = df_netflix_2019[column].isnull().mean()\n",
    "    print(f'{column}: {round(percentage*100, 2)}%')"
   ]
  },
  {
   "cell_type": "markdown",
   "metadata": {},
   "source": [
    "### Dealing with missing data"
   ]
  },
  {
   "cell_type": "code",
   "execution_count": 7,
   "metadata": {},
   "outputs": [],
   "source": [
    "#1. drop\n",
    "#drop column\n",
    "df_netflix_2019.drop('director', axis=1)\n",
    "#drop row\n",
    "no_director = df_netflix_2019[df_netflix_2019['director'].isnull()].index\n",
    "df_netflix_2019.drop(no_director, axis=0)\n",
    "#~ + .isnull()\n",
    "df_netflix_2019[~df_netflix_2019['director'].isnull()]\n",
    "#dropna()\n",
    "df_netflix_2019.dropna(subset=['director'])\n",
    "\n",
    "#2. use median, mean (numeric data) or mode (categorical data)\n",
    "df_netflix_2019[df_netflix_2019['rating'].isnull()]\n",
    "mode = ''.join(df_netflix_2019['rating'].mode())\n",
    "df_netflix_2019['rating'].fillna(mode, inplace=True)\n",
    "#3. replace with arbitrary number or text\n",
    "df_netflix_2019['duration'].fillna(0, inplace=True)\n",
    "\n",
    "# backward, forward ->df.fillna(method='bfill') , df.fillna(method='ffill')"
   ]
  },
  {
   "cell_type": "markdown",
   "metadata": {},
   "source": [
    "### Finding Outliers"
   ]
  },
  {
   "cell_type": "markdown",
   "metadata": {},
   "source": [
    "#### Numeric Data"
   ]
  },
  {
   "cell_type": "code",
   "execution_count": 8,
   "metadata": {},
   "outputs": [],
   "source": [
    "#creating column (extract)\n",
    "df_movie = df_netflix_2019[df_netflix_2019['type']=='Movie']\n",
    "df_movie = df_movie.assign(minute = df_movie['duration'].str.extract(r'(\\d+)', expand=False).astype(int))"
   ]
  },
  {
   "cell_type": "code",
   "execution_count": 9,
   "metadata": {},
   "outputs": [
    {
     "data": {
      "image/png": "[encoded data removed]",
      "text/plain": [
       "<Figure size 720x432 with 1 Axes>"
      ]
     },
     "metadata": {},
     "output_type": "display_data"
    }
   ],
   "source": [
    "# Histogram\n",
    "# stylish: lining up  ticks  with the histogram bars\n",
    "min_minute, max_minute = df_movie['minute'].min(), df_movie['minute'].max()\n",
    "minbin, maxbin = math.floor(min_minute), math.ceil(max_minute)\n",
    "gap = maxbin - minbin\n",
    "#choose number of beens\n",
    "bins = 10\n",
    "width = math.ceil(gap/bins)\n",
    "\n",
    "bins = np.arange(minbin,maxbin+width, width)\n",
    "fig, ax = plt.subplots(nrows=1, ncols=1)\n",
    "ax.hist(df_movie['minute'], bins=bins, color='turquoise')\n",
    "\n",
    "fig.set_size_inches(10, 6)\n",
    "ax.set_xlabel('Duration (minutes)', fontsize=15)\n",
    "ax.set_ylabel('Number of Movies', fontsize=15)\n",
    "plt.xticks(bins, fontsize=15)\n",
    "plt.yticks(fontsize=15)\n",
    "fig.tight_layout()\n",
    "plt.show()\n",
    "# fig.savefig('histogram_cleaning.png')\n",
    "\n",
    "#simple\n",
    "# fig, ax = plt.subplots(nrows=1, ncols=1)\n",
    "# plt.hist(x=df_movie['minute'])\n",
    "# fig.tight_layout()"
   ]
  },
  {
   "cell_type": "code",
   "execution_count": 10,
   "metadata": {},
   "outputs": [
    {
     "data": {
      "image/png": "[encoded data removed]",
      "text/plain": [
       "<Figure size 720x432 with 1 Axes>"
      ]
     },
     "metadata": {},
     "output_type": "display_data"
    }
   ],
   "source": [
    "#boxplot\n",
    "fig, ax = plt.subplots(nrows=1, ncols=1)\n",
    "fig.set_size_inches(10, 6)\n",
    "ax = sns.boxplot(x=df_movie['minute'])\n",
    "ax.set_xlabel('Duration (minutes)', fontsize=15)\n",
    "plt.xticks(fontsize=15)\n",
    "plt.yticks(fontsize=15)\n",
    "fig.tight_layout()\n",
    "fig.savefig('boxplot_cleaning.png')\n",
    "\n",
    "# fig, ax = plt.subplots(nrows=1, ncols=1)\n",
    "# ax = sns.boxplot(x=df_movie['minute'])\n",
    "# fig.tight_layout()"
   ]
  },
  {
   "cell_type": "code",
   "execution_count": 11,
   "metadata": {},
   "outputs": [],
   "source": [
    "#first boxplot\n",
    "# import plotly.graph_objects as go\n",
    "# from plotly.offline import iplot, init_notebook_mode\n",
    "\n",
    "# fig = go.Figure()\n",
    "# fig.add_box(x=df_movie['minute'], text=df_movie['minute'])\n",
    "# iplot(fig)"
   ]
  },
  {
   "cell_type": "code",
   "execution_count": 12,
   "metadata": {},
   "outputs": [
    {
     "data": {
      "text/plain": [
       "count    4265.000000\n",
       "mean       99.100821\n",
       "std        28.074857\n",
       "min         3.000000\n",
       "25%        86.000000\n",
       "50%        98.000000\n",
       "75%       115.000000\n",
       "max       312.000000\n",
       "Name: minute, dtype: float64"
      ]
     },
     "execution_count": 12,
     "metadata": {},
     "output_type": "execute_result"
    }
   ],
   "source": [
    "#overview descriptive statitics\n",
    "df_movie['minute'].describe()"
   ]
  },
  {
   "cell_type": "markdown",
   "metadata": {},
   "source": [
    "#### Categorical data"
   ]
  },
  {
   "cell_type": "code",
   "execution_count": 13,
   "metadata": {},
   "outputs": [
    {
     "data": {
      "image/png": "[encoded data removed]",
      "text/plain": [
       "<Figure size 720x432 with 1 Axes>"
      ]
     },
     "metadata": {},
     "output_type": "display_data"
    }
   ],
   "source": [
    "fig, ax = plt.subplots(nrows=1, ncols=1)\n",
    "fig.set_size_inches(10, 6)\n",
    "fig = df_netflix_2019['rating'].value_counts().plot.bar().get_figure()\n",
    "plt.xticks(fontsize=15)\n",
    "plt.yticks(fontsize=15)\n",
    "fig.tight_layout()\n",
    "fig.savefig('bar_cleaning')"
   ]
  },
  {
   "cell_type": "markdown",
   "metadata": {},
   "source": [
    "### Dealing with Outliers"
   ]
  },
  {
   "cell_type": "code",
   "execution_count": 14,
   "metadata": {},
   "outputs": [],
   "source": [
    "#outliers\n",
    "df_movie[(df_movie['minute']<43) | (df_movie['minute']>158)]\n",
    "#filtering outliers out\n",
    "df_movie = df_movie[(df_movie['minute']>43) & (df_movie['minute']<158)]"
   ]
  },
  {
   "cell_type": "markdown",
   "metadata": {},
   "source": [
    "### Inconsistent Data 1"
   ]
  },
  {
   "cell_type": "code",
   "execution_count": 16,
   "metadata": {
    "scrolled": true
   },
   "outputs": [],
   "source": [
    "#inconsistent capitalization\n",
    "df_netflix_2019['title'] = df_netflix_2019['title'].apply(lambda x:x.lower())\n",
    "# Remove strings in columns (sub, replace) remove punctuation\n",
    "df_netflix_2019['title'] = df_netflix_2019['title'].apply(lambda x:re.sub('[^\\w\\s]','',x))\n",
    "#unnecessary data\n",
    "df_netflix_2019 = df_netflix_2019.drop_duplicates()\n",
    "#droping tiltes from the same type (movie or tv) to avoid further problems (34 out)\n",
    "df_netflix_2019.drop_duplicates(['title','type'], keep='last', inplace=True)"
   ]
  },
  {
   "cell_type": "markdown",
   "metadata": {},
   "source": [
    "### Netflix Originals (until 2020)"
   ]
  },
  {
   "cell_type": "markdown",
   "metadata": {},
   "source": [
    "### Inconsitent Data 2"
   ]
  },
  {
   "cell_type": "code",
   "execution_count": 17,
   "metadata": {},
   "outputs": [],
   "source": [
    "df_netflix_originals = pd.read_csv('netflix_originals.csv')\n",
    "#inconsintent column names\n",
    "df_netflix_originals.rename(columns={'titles':'title', 'years':'release_year'}, inplace=True)\n",
    "# inconsistent dtypes (data must be same type before merging)\n",
    "df_netflix_originals = df_netflix_originals.astype({\"release_year\": int})"
   ]
  },
  {
   "cell_type": "code",
   "execution_count": 22,
   "metadata": {},
   "outputs": [
    {
     "data": {
      "text/plain": [
       "states         match       score\n",
       "CA             California  33       1\n",
       "Hawai          Hawaii      91       1\n",
       "NY             New York    40       1\n",
       "Washington DC  Washington  87       1\n",
       "dtype: int64"
      ]
     },
     "execution_count": 22,
     "metadata": {},
     "output_type": "execute_result"
    }
   ],
   "source": [
    "# example: Dealing with inconsistent names e.g. \"New York\" vs \"NY\"\n",
    "from fuzzywuzzy import process, fuzz\n",
    "states = ['New York', 'California', 'Washington', 'Hawaii']\n",
    "df_states = pd.DataFrame({'states':['NY', 'CA', 'Washington DC', 'Hawai']})\n",
    "df_states[['match', 'score']] = df_states['states'].apply(lambda x:process.extractOne(x, states, scorer=fuzz.token_sort_ratio)).apply(pd.Series)\n",
    "df_states.value_counts()"
   ]
  },
  {
   "cell_type": "markdown",
   "metadata": {},
   "source": [
    "### Text Normalization"
   ]
  },
  {
   "cell_type": "code",
   "execution_count": 19,
   "metadata": {},
   "outputs": [],
   "source": [
    "#inconsistent capitalization\n",
    "df_netflix_originals['title'] = df_netflix_originals['title'].apply(lambda x:x.lower())\n",
    "df_netflix_originals['title'] = df_netflix_originals['title'].str.lower()\n",
    "#clean leading and trailing spaces\n",
    "df_netflix_originals['title'] = df_netflix_originals['title'].apply(lambda x:x.strip())\n",
    "df_netflix_originals['title'] = df_netflix_originals['title'].str.strip()\n",
    "# remove punctuation: clean characters other than word or spaces\n",
    "df_netflix_originals['title'] = df_netflix_originals['title'].apply(lambda x:re.sub('[^\\w\\s]','',x))\n",
    "df_netflix_originals['title'].replace('[^\\w\\s]', '', regex=True, inplace=True)"
   ]
  },
  {
   "cell_type": "markdown",
   "metadata": {},
   "source": [
    "### Final Netflix DataFrame"
   ]
  },
  {
   "cell_type": "code",
   "execution_count": 20,
   "metadata": {},
   "outputs": [],
   "source": [
    "# we want to identify which movies are netflix originals and which only belong to the catalog so we do an outer join to give 'Catalog' value to all the rows\n",
    "# that are only in the \"df_netflix_2019\" dataset\n",
    "df_netflix = pd.merge(df_netflix_originals, df_netflix_2019, on=['title', 'type', 'release_year'],\n",
    "                           how='outer')\n",
    "df_netflix['original'].fillna('Catalog', inplace=True)\n",
    "#drop_duplicates: data duplicated because of disagreement in releaase_year\n",
    "df_netflix.drop_duplicates(['title'], keep='first', inplace=True)"
   ]
  },
  {
   "cell_type": "code",
   "execution_count": 21,
   "metadata": {},
   "outputs": [
    {
     "data": {
      "text/plain": [
       "original  type   \n",
       "Catalog   Movie      3705\n",
       "          TV Show    1439\n",
       "Netflix   TV Show    1009\n",
       "          Movie       504\n",
       "dtype: int64"
      ]
     },
     "execution_count": 21,
     "metadata": {},
     "output_type": "execute_result"
    }
   ],
   "source": [
    "df_netflix[['original', 'type']].value_counts()"
   ]
  }
 ],
 "metadata": {
  "kernelspec": {
   "display_name": "Python 3",
   "language": "python",
   "name": "python3"
  },
  "language_info": {
   "codemirror_mode": {
    "name": "ipython",
    "version": 3
   },
   "file_extension": ".py",
   "mimetype": "text/x-python",
   "name": "python",
   "nbconvert_exporter": "python",
   "pygments_lexer": "ipython3",
   "version": "3.8.8"
  },
  "toc": {
   "base_numbering": 1,
   "nav_menu": {},
   "number_sections": true,
   "sideBar": true,
   "skip_h1_title": false,
   "title_cell": "Table of Contents",
   "title_sidebar": "Contents",
   "toc_cell": false,
   "toc_position": {},
   "toc_section_display": true,
   "toc_window_display": false
  }
 },
 "nbformat": 4,
 "nbformat_minor": 4
}
