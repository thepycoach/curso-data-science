{
 "cells": [
  {
   "cell_type": "code",
   "execution_count": null,
   "id": "932b054d",
   "metadata": {},
   "outputs": [],
   "source": [
    "import pandas as pd"
   ]
  },
  {
   "cell_type": "code",
   "execution_count": null,
   "id": "af2b9d82",
   "metadata": {
    "scrolled": false
   },
   "outputs": [],
   "source": [
    "df_laptops = pd.read_csv('laptop_price.csv')"
   ]
  },
  {
   "cell_type": "code",
   "execution_count": null,
   "id": "1d57c715",
   "metadata": {
    "scrolled": true
   },
   "outputs": [],
   "source": [
    "df_laptops.head(3)"
   ]
  },
  {
   "cell_type": "markdown",
   "id": "c9b78384",
   "metadata": {},
   "source": [
    "# Ejercicio"
   ]
  },
  {
   "cell_type": "code",
   "execution_count": null,
   "id": "875f31cc",
   "metadata": {},
   "outputs": [],
   "source": [
    "# crear un array basado en el tamaño de pantala (\"screen size\" mayor a 15 es 'Big' y menor o igual a 15 es 'Small')\n"
   ]
  },
  {
   "cell_type": "code",
   "execution_count": null,
   "id": "078b29c2",
   "metadata": {},
   "outputs": [],
   "source": [
    "# añadir a nueva columna\n"
   ]
  },
  {
   "cell_type": "code",
   "execution_count": null,
   "id": "c6e3cffa",
   "metadata": {
    "scrolled": false
   },
   "outputs": [],
   "source": [
    "# mostrar primeras 5 filas\n"
   ]
  },
  {
   "cell_type": "code",
   "execution_count": null,
   "id": "905ea459",
   "metadata": {},
   "outputs": [],
   "source": [
    "# contar valores en columna screen_size\n"
   ]
  }
 ],
 "metadata": {
  "kernelspec": {
   "display_name": "Python 3",
   "language": "python",
   "name": "python3"
  },
  "language_info": {
   "codemirror_mode": {
    "name": "ipython",
    "version": 3
   },
   "file_extension": ".py",
   "mimetype": "text/x-python",
   "name": "python",
   "nbconvert_exporter": "python",
   "pygments_lexer": "ipython3",
   "version": "3.8.8"
  },
  "toc": {
   "base_numbering": 1,
   "nav_menu": {},
   "number_sections": true,
   "sideBar": true,
   "skip_h1_title": false,
   "title_cell": "Table of Contents",
   "title_sidebar": "Contents",
   "toc_cell": false,
   "toc_position": {},
   "toc_section_display": true,
   "toc_window_display": false
  }
 },
 "nbformat": 4,
 "nbformat_minor": 5
}
