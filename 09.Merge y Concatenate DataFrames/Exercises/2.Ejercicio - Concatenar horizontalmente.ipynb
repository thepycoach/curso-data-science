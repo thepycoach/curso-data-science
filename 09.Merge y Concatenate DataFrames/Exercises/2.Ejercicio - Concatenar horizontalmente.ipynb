{
 "cells": [
  {
   "cell_type": "code",
   "execution_count": 1,
   "id": "66daadd7",
   "metadata": {},
   "outputs": [],
   "source": [
    "import pandas as pd"
   ]
  },
  {
   "cell_type": "code",
   "execution_count": 2,
   "id": "e866693a",
   "metadata": {},
   "outputs": [],
   "source": [
    "df_movies = pd.read_csv('IMDb movies.csv', low_memory=False)\n",
    "df_ratings = pd.read_csv('IMDb ratings.csv')"
   ]
  },
  {
   "cell_type": "code",
   "execution_count": 3,
   "id": "8ad37e6c",
   "metadata": {},
   "outputs": [],
   "source": [
    "# seleccionar columnas\n",
    "df_movies = df_movies[['imdb_title_id', 'title', 'year',\n",
    "                       'genre', 'country']]\n",
    "\n",
    "df_ratings = df_ratings[['imdb_title_id', 'total_votes', 'mean_vote']]"
   ]
  },
  {
   "cell_type": "markdown",
   "id": "12181d8d",
   "metadata": {},
   "source": [
    "# concat()"
   ]
  },
  {
   "cell_type": "markdown",
   "id": "f6cd89a6",
   "metadata": {},
   "source": [
    "## Concatenar horizontalmente"
   ]
  },
  {
   "cell_type": "code",
   "execution_count": 22,
   "id": "34a9e55c",
   "metadata": {},
   "outputs": [],
   "source": [
    "df1 = pd.DataFrame({'id': ['A', 'B', 'C', 'D'],\n",
    "                    'age': [30, 23, 25, 22]})\n",
    "df2 = pd.DataFrame({'job': ['Doctor', 'Statistician',\n",
    "                            'Accountant', 'Developer']})"
   ]
  },
  {
   "cell_type": "code",
   "execution_count": 25,
   "id": "7d759a74",
   "metadata": {
    "scrolled": true
   },
   "outputs": [
    {
     "data": {
      "text/html": [
       "<div>\n",
       "<style scoped>\n",
       "    .dataframe tbody tr th:only-of-type {\n",
       "        vertical-align: middle;\n",
       "    }\n",
       "\n",
       "    .dataframe tbody tr th {\n",
       "        vertical-align: top;\n",
       "    }\n",
       "\n",
       "    .dataframe thead th {\n",
       "        text-align: right;\n",
       "    }\n",
       "</style>\n",
       "<table border=\"1\" class=\"dataframe\">\n",
       "  <thead>\n",
       "    <tr style=\"text-align: right;\">\n",
       "      <th></th>\n",
       "      <th>id</th>\n",
       "      <th>age</th>\n",
       "      <th>job</th>\n",
       "    </tr>\n",
       "  </thead>\n",
       "  <tbody>\n",
       "    <tr>\n",
       "      <th>0</th>\n",
       "      <td>A</td>\n",
       "      <td>30</td>\n",
       "      <td>Doctor</td>\n",
       "    </tr>\n",
       "    <tr>\n",
       "      <th>1</th>\n",
       "      <td>B</td>\n",
       "      <td>23</td>\n",
       "      <td>Statistician</td>\n",
       "    </tr>\n",
       "    <tr>\n",
       "      <th>2</th>\n",
       "      <td>C</td>\n",
       "      <td>25</td>\n",
       "      <td>Accountant</td>\n",
       "    </tr>\n",
       "    <tr>\n",
       "      <th>3</th>\n",
       "      <td>D</td>\n",
       "      <td>22</td>\n",
       "      <td>Developer</td>\n",
       "    </tr>\n",
       "  </tbody>\n",
       "</table>\n",
       "</div>"
      ],
      "text/plain": [
       "  id  age           job\n",
       "0  A   30        Doctor\n",
       "1  B   23  Statistician\n",
       "2  C   25    Accountant\n",
       "3  D   22     Developer"
      ]
     },
     "execution_count": 25,
     "metadata": {},
     "output_type": "execute_result"
    }
   ],
   "source": [
    "pd.concat([df1, df2], axis=1)"
   ]
  },
  {
   "cell_type": "markdown",
   "id": "1cc4bf4c",
   "metadata": {},
   "source": [
    "### Ejercicio"
   ]
  },
  {
   "cell_type": "code",
   "execution_count": null,
   "id": "61bf092b",
   "metadata": {},
   "outputs": [],
   "source": [
    "# shape de dataframes que vamos a concatenar\n"
   ]
  },
  {
   "cell_type": "code",
   "execution_count": null,
   "id": "a8b0e579",
   "metadata": {},
   "outputs": [],
   "source": [
    "# fijar 'imdb_title_id' como index de df_ratings y df_movies\n"
   ]
  },
  {
   "cell_type": "code",
   "execution_count": null,
   "id": "0adad62d",
   "metadata": {},
   "outputs": [],
   "source": [
    "# concatenar df_movies y df_ratings (horizontalmente)\n"
   ]
  },
  {
   "cell_type": "code",
   "execution_count": null,
   "id": "fc7129bc",
   "metadata": {},
   "outputs": [],
   "source": [
    "# shape de la concatenacion\n"
   ]
  }
 ],
 "metadata": {
  "kernelspec": {
   "display_name": "Python 3",
   "language": "python",
   "name": "python3"
  },
  "language_info": {
   "codemirror_mode": {
    "name": "ipython",
    "version": 3
   },
   "file_extension": ".py",
   "mimetype": "text/x-python",
   "name": "python",
   "nbconvert_exporter": "python",
   "pygments_lexer": "ipython3",
   "version": "3.8.8"
  },
  "toc": {
   "base_numbering": 1,
   "nav_menu": {},
   "number_sections": true,
   "sideBar": true,
   "skip_h1_title": false,
   "title_cell": "Table of Contents",
   "title_sidebar": "Contents",
   "toc_cell": false,
   "toc_position": {},
   "toc_section_display": true,
   "toc_window_display": false
  }
 },
 "nbformat": 4,
 "nbformat_minor": 5
}
