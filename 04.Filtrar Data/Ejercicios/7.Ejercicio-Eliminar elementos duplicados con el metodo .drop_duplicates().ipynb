{
 "cells": [
  {
   "cell_type": "code",
   "execution_count": null,
   "id": "acee6c9f",
   "metadata": {},
   "outputs": [],
   "source": [
    "import pandas as pd"
   ]
  },
  {
   "cell_type": "code",
   "execution_count": null,
   "id": "5349f28e",
   "metadata": {
    "scrolled": false
   },
   "outputs": [],
   "source": [
    "df_laptops = pd.read_csv('laptop_price.csv')"
   ]
  },
  {
   "cell_type": "code",
   "execution_count": null,
   "id": "836a3c5b",
   "metadata": {
    "scrolled": false
   },
   "outputs": [],
   "source": [
    "df_laptops.head(3)"
   ]
  },
  {
   "cell_type": "markdown",
   "id": "192e3e3a",
   "metadata": {},
   "source": [
    "# Ejercicio 1"
   ]
  },
  {
   "cell_type": "markdown",
   "id": "0483690e",
   "metadata": {},
   "source": [
    "Encontrar las pantallas mas grandes y pequeñas en laptop por cada compañia usando el metodo sort_values() y\n",
    "duplicated() (usa keep \"first\", \"last\" o False)"
   ]
  },
  {
   "cell_type": "code",
   "execution_count": null,
   "id": "fb689996",
   "metadata": {},
   "outputs": [],
   "source": [
    "# ordenar dataframe ascendiente por compañia (company) y pulgadas (inches)\n",
    "# mas pequeños primero y mas grandes al ultimo\n"
   ]
  },
  {
   "cell_type": "code",
   "execution_count": null,
   "id": "105b73c5",
   "metadata": {},
   "outputs": [],
   "source": [
    "# mas pequeño: keep='first'\n"
   ]
  },
  {
   "cell_type": "code",
   "execution_count": null,
   "id": "e2552ae7",
   "metadata": {},
   "outputs": [],
   "source": [
    "# mas grande: keep='last'\n"
   ]
  }
 ],
 "metadata": {
  "kernelspec": {
   "display_name": "Python 3",
   "language": "python",
   "name": "python3"
  },
  "language_info": {
   "codemirror_mode": {
    "name": "ipython",
    "version": 3
   },
   "file_extension": ".py",
   "mimetype": "text/x-python",
   "name": "python",
   "nbconvert_exporter": "python",
   "pygments_lexer": "ipython3",
   "version": "3.8.8"
  },
  "toc": {
   "base_numbering": 1,
   "nav_menu": {},
   "number_sections": true,
   "sideBar": true,
   "skip_h1_title": false,
   "title_cell": "Table of Contents",
   "title_sidebar": "Contents",
   "toc_cell": false,
   "toc_position": {},
   "toc_section_display": true,
   "toc_window_display": false
  }
 },
 "nbformat": 4,
 "nbformat_minor": 5
}
