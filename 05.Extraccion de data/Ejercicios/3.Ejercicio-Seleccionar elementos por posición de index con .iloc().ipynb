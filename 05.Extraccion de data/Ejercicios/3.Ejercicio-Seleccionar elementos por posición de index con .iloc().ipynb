{
 "cells": [
  {
   "cell_type": "code",
   "execution_count": null,
   "id": "8dade005",
   "metadata": {},
   "outputs": [],
   "source": [
    "import pandas as pd"
   ]
  },
  {
   "cell_type": "code",
   "execution_count": null,
   "id": "bf56fa8d",
   "metadata": {},
   "outputs": [],
   "source": [
    "# leer archivo csv\n",
    "df = pd.read_csv('players_20.csv')\n",
    "# fijar index\n",
    "df.set_index('short_name', inplace=True)\n",
    "# seleccionar columnas\n",
    "df = df[['long_name', 'age', 'dob', 'height_cm', 'weight_kg', 'nationality', 'club']]"
   ]
  },
  {
   "cell_type": "code",
   "execution_count": null,
   "id": "22e0712b",
   "metadata": {},
   "outputs": [],
   "source": [
    "# mostrar dataframe\n",
    "df"
   ]
  },
  {
   "cell_type": "markdown",
   "id": "695b03ab",
   "metadata": {},
   "source": [
    "# Seleccionar con un valor"
   ]
  },
  {
   "cell_type": "markdown",
   "id": "4a946ad1",
   "metadata": {},
   "source": [
    "loc[nombre_fila, nombre_columna]"
   ]
  },
  {
   "cell_type": "code",
   "execution_count": null,
   "id": "90f81ab1",
   "metadata": {},
   "outputs": [],
   "source": [
    "# obtener el tamaño de L.Messi\n"
   ]
  },
  {
   "cell_type": "code",
   "execution_count": null,
   "id": "556d19c9",
   "metadata": {},
   "outputs": [],
   "source": [
    "# obtener el peso de Cristiano Ronaldo\n"
   ]
  },
  {
   "cell_type": "code",
   "execution_count": null,
   "id": "0cedd013",
   "metadata": {},
   "outputs": [],
   "source": [
    "# obtener todas las filas dentro de columna 'height_cm'\n"
   ]
  },
  {
   "cell_type": "code",
   "execution_count": null,
   "id": "ad68d4b9",
   "metadata": {},
   "outputs": [],
   "source": [
    "# obtener todas las columnas que corresponder al index 'L. Messi'\n"
   ]
  },
  {
   "cell_type": "markdown",
   "id": "df7beba4",
   "metadata": {},
   "source": [
    "# Seleccionar con una lista de valores"
   ]
  },
  {
   "cell_type": "code",
   "execution_count": null,
   "id": "1680cdc2",
   "metadata": {},
   "outputs": [],
   "source": [
    "# obtener data sobre L.Messi y Cristiano Ronaldo\n"
   ]
  },
  {
   "cell_type": "code",
   "execution_count": null,
   "id": "cc3ced8a",
   "metadata": {},
   "outputs": [],
   "source": [
    "# obtener el tamaño de L.Messi y Cristiano Ronaldo\n"
   ]
  },
  {
   "cell_type": "code",
   "execution_count": null,
   "id": "4e525f26",
   "metadata": {},
   "outputs": [],
   "source": [
    "# obtener el tamaño y peso de L.Messi\n"
   ]
  },
  {
   "cell_type": "code",
   "execution_count": null,
   "id": "7cb64531",
   "metadata": {},
   "outputs": [],
   "source": [
    "# obtener el tamaño y peso de L.Messi y Cristiano Ronaldo\n"
   ]
  },
  {
   "cell_type": "markdown",
   "id": "d3ca4c76",
   "metadata": {},
   "source": [
    "# Seleccionar un rango de data con un slice (rebanada)"
   ]
  },
  {
   "cell_type": "markdown",
   "id": "936188dd",
   "metadata": {},
   "source": [
    "start:stop  (El elemento \"start\" es incluido mientras que \"stop\" es excluido)"
   ]
  },
  {
   "cell_type": "code",
   "execution_count": null,
   "id": "0a7f63f0",
   "metadata": {},
   "outputs": [],
   "source": [
    "# hacer slice a nombre de columnas. Desde columna \"age\" hasta columna \"club\"\n",
    "# players = ['L. Messi', 'Cristiano Ronaldo']\n",
    "players = [0, 1]\n"
   ]
  },
  {
   "cell_type": "code",
   "execution_count": null,
   "id": "bf2e5e4c",
   "metadata": {},
   "outputs": [],
   "source": [
    "# hacer slice a los nombre de los index. Desde jugador top 1  hasta top 10\n",
    "# columns = ['age', 'dob', 'height_cm', 'weight_kg']\n",
    "columns = [1,2,3,4]\n",
    "\n",
    "# obtener los nombres de jugadores top1 y top10 \n"
   ]
  },
  {
   "cell_type": "markdown",
   "id": "6ef4a621",
   "metadata": {},
   "source": [
    "# Selecting with conditions"
   ]
  },
  {
   "cell_type": "markdown",
   "id": "92df0518",
   "metadata": {},
   "source": [
    "iloc no puede aceptar una Serie booleana, pero si puede aceptar una lista booleana. Tenemos que usar la funcion list() para convertir una Serie a una lista."
   ]
  },
  {
   "cell_type": "code",
   "execution_count": null,
   "id": "61fc1413",
   "metadata": {},
   "outputs": [],
   "source": [
    "# una condicion: seleccionar jugadores con estatura arriba de 180cm\n",
    "# columns = ['age', 'dob', 'height_cm', 'weight_kg']\n",
    "columns = [1,2,3,4]\n"
   ]
  },
  {
   "cell_type": "code",
   "execution_count": null,
   "id": "8c90180c",
   "metadata": {},
   "outputs": [],
   "source": [
    "# multiples condiciones: seleccionar jugadores con tamaño arriba de 180cm y que son de Argentina\n"
   ]
  }
 ],
 "metadata": {
  "kernelspec": {
   "display_name": "Python 3",
   "language": "python",
   "name": "python3"
  },
  "language_info": {
   "codemirror_mode": {
    "name": "ipython",
    "version": 3
   },
   "file_extension": ".py",
   "mimetype": "text/x-python",
   "name": "python",
   "nbconvert_exporter": "python",
   "pygments_lexer": "ipython3",
   "version": "3.8.8"
  },
  "toc": {
   "base_numbering": 1,
   "nav_menu": {},
   "number_sections": true,
   "sideBar": true,
   "skip_h1_title": false,
   "title_cell": "Table of Contents",
   "title_sidebar": "Contents",
   "toc_cell": false,
   "toc_position": {},
   "toc_section_display": true,
   "toc_window_display": false
  }
 },
 "nbformat": 4,
 "nbformat_minor": 5
}
