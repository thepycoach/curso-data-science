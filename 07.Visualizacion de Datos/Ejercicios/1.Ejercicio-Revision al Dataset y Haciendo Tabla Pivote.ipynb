{
 "cells": [
  {
   "cell_type": "code",
   "execution_count": null,
   "id": "270bafb9",
   "metadata": {},
   "outputs": [],
   "source": [
    "import pandas as pd"
   ]
  },
  {
   "cell_type": "code",
   "execution_count": null,
   "id": "47fc4e0d",
   "metadata": {},
   "outputs": [],
   "source": [
    "# leer el archivo csv\n",
    "df_population_raw = pd.read_csv('population_total.csv')"
   ]
  },
  {
   "cell_type": "code",
   "execution_count": null,
   "id": "d44cbeb9",
   "metadata": {
    "scrolled": false
   },
   "outputs": [],
   "source": [
    "# mostrar el dataframe\n"
   ]
  },
  {
   "cell_type": "markdown",
   "id": "ec86a50f",
   "metadata": {},
   "source": [
    "# Hacer una Tabla Pivote"
   ]
  },
  {
   "cell_type": "markdown",
   "id": "1450c112",
   "metadata": {},
   "source": [
    "En este ejercicio, vamos a reorganizar el dataset población_total, de modo que obtengamos el nombre de países en las columnas y los años en el índice. Esto nos ayudará más adelante a la hora de realizar visualizaciones."
   ]
  },
  {
   "cell_type": "code",
   "execution_count": null,
   "id": "4d01f725",
   "metadata": {},
   "outputs": [],
   "source": [
    "# eliminar valores nulos\n",
    "df_population_raw.dropna(inplace=True)"
   ]
  },
  {
   "cell_type": "code",
   "execution_count": null,
   "id": "aeb60686",
   "metadata": {},
   "outputs": [],
   "source": [
    "# hacer una tabla pivote con el método .pivot () (países en los nombres de las columnas y años en el índice)\n"
   ]
  },
  {
   "cell_type": "code",
   "execution_count": null,
   "id": "918dc0db",
   "metadata": {},
   "outputs": [],
   "source": [
    "# seleccione solo los países 'United States', 'India', 'China', 'Indonesia', 'Brazil' y actualizar el dataframe\n"
   ]
  },
  {
   "cell_type": "code",
   "execution_count": null,
   "id": "d8c76de7",
   "metadata": {
    "scrolled": false
   },
   "outputs": [],
   "source": [
    "# mostrar tabla pivote\n"
   ]
  }
 ],
 "metadata": {
  "kernelspec": {
   "display_name": "Python 3",
   "language": "python",
   "name": "python3"
  },
  "language_info": {
   "codemirror_mode": {
    "name": "ipython",
    "version": 3
   },
   "file_extension": ".py",
   "mimetype": "text/x-python",
   "name": "python",
   "nbconvert_exporter": "python",
   "pygments_lexer": "ipython3",
   "version": "3.8.8"
  },
  "toc": {
   "base_numbering": 1,
   "nav_menu": {},
   "number_sections": true,
   "sideBar": true,
   "skip_h1_title": false,
   "title_cell": "Table of Contents",
   "title_sidebar": "Contents",
   "toc_cell": false,
   "toc_position": {},
   "toc_section_display": true,
   "toc_window_display": false
  }
 },
 "nbformat": 4,
 "nbformat_minor": 5
}
