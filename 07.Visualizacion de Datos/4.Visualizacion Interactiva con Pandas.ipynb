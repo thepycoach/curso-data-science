{
 "cells": [
  {
   "cell_type": "code",
   "execution_count": null,
   "id": "dress-surrey",
   "metadata": {},
   "outputs": [],
   "source": [
    "import pandas as pd\n",
    "import cufflinks as cf\n",
    "from IPython.display import display,HTML\n",
    "\n",
    "cf.set_config_file(sharing='public',theme='white',offline=True) \n",
    "# escribe cf.getThemes() para obtener todos los temas disponibles"
   ]
  },
  {
   "cell_type": "markdown",
   "id": "passing-republican",
   "metadata": {},
   "source": [
    "# La Data"
   ]
  },
  {
   "cell_type": "code",
   "execution_count": null,
   "id": "junior-times",
   "metadata": {
    "scrolled": false
   },
   "outputs": [],
   "source": [
    "pd.read_csv('population_total.csv')"
   ]
  },
  {
   "cell_type": "code",
   "execution_count": null,
   "id": "manual-report",
   "metadata": {
    "scrolled": false
   },
   "outputs": [],
   "source": [
    "df_population = pd.read_csv('population_total.csv')\n",
    "df_population = df_population.dropna()\n",
    "df_population = df_population.pivot(index='year', columns='country',\n",
    "                                    values='population')\n",
    "df_population = df_population[['United States', 'India', 'China', \n",
    "                               'Indonesia', 'Brazil']]\n",
    "df_population"
   ]
  },
  {
   "cell_type": "markdown",
   "id": "noble-couple",
   "metadata": {},
   "source": [
    "# Lineplot (Grafico de Linea)"
   ]
  },
  {
   "cell_type": "code",
   "execution_count": null,
   "id": "relative-distribution",
   "metadata": {},
   "outputs": [],
   "source": [
    "df_population.iplot(kind='line', xTitle='Years', yTitle='Population',\n",
    "                    title='Population (1955-2020)')"
   ]
  },
  {
   "cell_type": "markdown",
   "id": "devoted-reverse",
   "metadata": {},
   "source": [
    "# Barplot (Grafico de Barra)"
   ]
  },
  {
   "cell_type": "markdown",
   "id": "colored-architect",
   "metadata": {},
   "source": [
    "## 1 Barplot"
   ]
  },
  {
   "cell_type": "code",
   "execution_count": null,
   "id": "greek-japanese",
   "metadata": {},
   "outputs": [],
   "source": [
    "df_population_2020 = df_population[df_population.index.isin([2020])]\n",
    "df_population_2020 = df_population_2020.T\n",
    "df_population_2020.iplot(kind='bar', color='lightgreen',\n",
    "                           xTitle='Years', yTitle='Population',\n",
    "                           title='Population in 2020')"
   ]
  },
  {
   "cell_type": "markdown",
   "id": "valuable-partition",
   "metadata": {},
   "source": [
    "## Barplot agrupado por “n” variables"
   ]
  },
  {
   "cell_type": "code",
   "execution_count": null,
   "id": "authentic-stewart",
   "metadata": {},
   "outputs": [],
   "source": [
    "# filter years out\n",
    "df_population_sample = df_population[df_population.index.isin([1980, 1990, 2000, 2010, 2020])]\n",
    "\n",
    "# plotting\n",
    "df_population_sample.iplot(kind='bar', xTitle='Years',\n",
    "                           yTitle='Population')"
   ]
  },
  {
   "cell_type": "markdown",
   "id": "north-basics",
   "metadata": {},
   "source": [
    "# Boxplot (Grafico de caja)"
   ]
  },
  {
   "cell_type": "markdown",
   "id": "extended-luther",
   "metadata": {},
   "source": [
    "## 1 Boxplot"
   ]
  },
  {
   "cell_type": "code",
   "execution_count": null,
   "id": "hollywood-universal",
   "metadata": {},
   "outputs": [],
   "source": [
    "df_population['United States'].iplot(kind='box', color='green', \n",
    "                                     yTitle='Population')"
   ]
  },
  {
   "cell_type": "markdown",
   "id": "unsigned-somewhere",
   "metadata": {},
   "source": [
    "## Multiples Boxplots"
   ]
  },
  {
   "cell_type": "code",
   "execution_count": null,
   "id": "divided-production",
   "metadata": {},
   "outputs": [],
   "source": [
    "df_population.iplot(kind='box', xTitle='Countries',\n",
    "                    yTitle='Population')"
   ]
  },
  {
   "cell_type": "markdown",
   "id": "large-copying",
   "metadata": {},
   "source": [
    "# Histograma"
   ]
  },
  {
   "cell_type": "code",
   "execution_count": null,
   "id": "requested-change",
   "metadata": {
    "scrolled": false
   },
   "outputs": [],
   "source": [
    "df_population[['United States', 'Indonesia']].iplot(kind='hist',\n",
    "                                                    xTitle='Population')"
   ]
  },
  {
   "cell_type": "markdown",
   "id": "owned-quick",
   "metadata": {},
   "source": [
    "# Piechart"
   ]
  },
  {
   "cell_type": "code",
   "execution_count": null,
   "id": "serial-communications",
   "metadata": {},
   "outputs": [],
   "source": [
    "# transformando data\n",
    "df_population_2020 = df_population_2020.reset_index()\n",
    "df_population_2020 = df_population_2020.rename(columns={2020:'2020'})\n",
    "\n",
    "# haciendo el plot\n",
    "df_population_2020.iplot(kind='pie', labels='country',\n",
    "                         values='2020',\n",
    "                         title='Population in 2020 (%)')"
   ]
  },
  {
   "cell_type": "markdown",
   "id": "warming-hollow",
   "metadata": {},
   "source": [
    "# ScatterPlot (Grafico de dispersion)"
   ]
  },
  {
   "cell_type": "code",
   "execution_count": null,
   "id": "honest-baptist",
   "metadata": {},
   "outputs": [],
   "source": [
    "df_population.iplot(kind='scatter', mode='markers')"
   ]
  }
 ],
 "metadata": {
  "hide_input": false,
  "kernelspec": {
   "display_name": "Python 3",
   "language": "python",
   "name": "python3"
  },
  "language_info": {
   "codemirror_mode": {
    "name": "ipython",
    "version": 3
   },
   "file_extension": ".py",
   "mimetype": "text/x-python",
   "name": "python",
   "nbconvert_exporter": "python",
   "pygments_lexer": "ipython3",
   "version": "3.8.8"
  },
  "nbTranslate": {
   "displayLangs": [
    "es",
    "en"
   ],
   "hotkey": "alt-t",
   "langInMainMenu": true,
   "sourceLang": "en",
   "targetLang": "es",
   "useGoogleTranslate": true
  },
  "toc": {
   "base_numbering": 1,
   "nav_menu": {},
   "number_sections": true,
   "sideBar": true,
   "skip_h1_title": false,
   "title_cell": "Table of Contents",
   "title_sidebar": "Contents",
   "toc_cell": false,
   "toc_position": {},
   "toc_section_display": true,
   "toc_window_display": false
  }
 },
 "nbformat": 4,
 "nbformat_minor": 5
}
