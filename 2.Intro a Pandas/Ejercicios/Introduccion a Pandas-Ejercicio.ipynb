{
 "cells": [
  {
   "cell_type": "code",
   "execution_count": null,
   "id": "2bac431d",
   "metadata": {},
   "outputs": [],
   "source": [
    "# importar pandas\n",
    "import pandas as pd"
   ]
  },
  {
   "cell_type": "code",
   "execution_count": null,
   "id": "730ef2aa",
   "metadata": {},
   "outputs": [],
   "source": [
    "# Opcional: usa el pd.set_option() para mostrar todas las filas de un dataframe por defecto\n"
   ]
  },
  {
   "cell_type": "markdown",
   "id": "05c7ec54",
   "metadata": {},
   "source": [
    "# Crear un DataFrame"
   ]
  },
  {
   "cell_type": "code",
   "execution_count": null,
   "id": "cfb39f8c",
   "metadata": {},
   "outputs": [],
   "source": [
    "# leer el archivo csv \"bestsellers with categories\" (data sobre los 50 libros más vendidos de Amazon de 2009 a 2019.)\n"
   ]
  },
  {
   "cell_type": "code",
   "execution_count": null,
   "id": "618209c8",
   "metadata": {
    "scrolled": true
   },
   "outputs": [],
   "source": [
    "# acceder al atributo shape\n"
   ]
  },
  {
   "cell_type": "code",
   "execution_count": null,
   "id": "3acde70f",
   "metadata": {},
   "outputs": [],
   "source": [
    "# encontrar el tipo de data de cada columna\n"
   ]
  },
  {
   "cell_type": "markdown",
   "id": "7f15b10b",
   "metadata": {},
   "source": [
    "# Mostrar un DataFrame"
   ]
  },
  {
   "cell_type": "code",
   "execution_count": null,
   "id": "ef6b8d45",
   "metadata": {
    "scrolled": true
   },
   "outputs": [],
   "source": [
    "# mostrar primeras 5 filas de un dataframe\n"
   ]
  },
  {
   "cell_type": "code",
   "execution_count": null,
   "id": "a3da1b0a",
   "metadata": {},
   "outputs": [],
   "source": [
    "# encontrar valores estadisticos de un dataframe (mean, std, min, max)\n"
   ]
  },
  {
   "cell_type": "markdown",
   "id": "5f3f4db6",
   "metadata": {},
   "source": [
    "# Agregar una nueva Columna"
   ]
  },
  {
   "cell_type": "code",
   "execution_count": null,
   "id": "94c526df",
   "metadata": {},
   "outputs": [],
   "source": [
    "# Tu tarea es crear una columna llamada 'Critic Rating' que deberia tener numeros random enteros entre 1 y 4\n",
    "\n",
    "# 1.importar numpy y crear 550 numeros random enteros entre 1 y 4\n",
    "\n",
    "\n",
    "# 2.agregar nueva columna 'Critic Rating' al dataframe usando los numeros random creados\n",
    "\n",
    "\n",
    "# Obs: Los numeros aleatorios en la columna 'Critic Rating' seran diferentes entre tu solucion y la mia, pero vamos a concetrarnos en el codigo en esta seccion."
   ]
  },
  {
   "cell_type": "code",
   "execution_count": null,
   "id": "af7cec1e",
   "metadata": {},
   "outputs": [],
   "source": [
    "# mostrar 5 primeras filas\n"
   ]
  },
  {
   "cell_type": "markdown",
   "id": "822167f7",
   "metadata": {},
   "source": [
    "# Atributos, Metodos y Funciones Basicas"
   ]
  },
  {
   "cell_type": "code",
   "execution_count": null,
   "id": "3b8dfa8e",
   "metadata": {},
   "outputs": [],
   "source": [
    "# acceder al atributo \"columns\"\n"
   ]
  },
  {
   "cell_type": "markdown",
   "id": "6fe2c5f5",
   "metadata": {},
   "source": [
    "# Seleccionar 2 o Mas Columnas de un Dataframe"
   ]
  },
  {
   "cell_type": "code",
   "execution_count": null,
   "id": "97e31642",
   "metadata": {},
   "outputs": [],
   "source": [
    "# mover la columna 'Critic Rating' entre las columnas \"User Rating\" y \"Reviews\" Luego actualizar el dataframe\n",
    "\n",
    "# Tip: Copiar y pegar los nombres de columna obtenidos con el atributo \"columns\" y reordenar los elementos usando [[]]"
   ]
  },
  {
   "cell_type": "code",
   "execution_count": null,
   "id": "b15bae55",
   "metadata": {},
   "outputs": [],
   "source": [
    "# mostrar 5 primeras filas\n"
   ]
  },
  {
   "cell_type": "markdown",
   "id": "fedaf280",
   "metadata": {},
   "source": [
    "# Operaciones en Dataframes"
   ]
  },
  {
   "cell_type": "code",
   "execution_count": null,
   "id": "da1c2205",
   "metadata": {},
   "outputs": [],
   "source": [
    "# crear una columna llamada \"Average Rating\" usando la sigueinte formula: Average Rating = (User Rating + Critic Rating)/2\n"
   ]
  },
  {
   "cell_type": "code",
   "execution_count": null,
   "id": "ab6c226b",
   "metadata": {},
   "outputs": [],
   "source": [
    "# usar la funcion \"round\" para redondear los valores del dataframe a 1 decimal y actualizar el dataframe\n"
   ]
  },
  {
   "cell_type": "markdown",
   "id": "5142f8af",
   "metadata": {},
   "source": [
    "# Contar Valores"
   ]
  },
  {
   "cell_type": "code",
   "execution_count": null,
   "id": "a3a1e3fc",
   "metadata": {},
   "outputs": [],
   "source": [
    "# contar elementos en columna \"Genre\" por categoria y devolver la frecuencia relativa\n"
   ]
  },
  {
   "cell_type": "markdown",
   "id": "13ff41dd",
   "metadata": {},
   "source": [
    "# Renombrar Columnas"
   ]
  },
  {
   "cell_type": "code",
   "execution_count": null,
   "id": "f86a8194",
   "metadata": {},
   "outputs": [],
   "source": [
    "# renombrar columnas \"User Rating,\" \"Critic Rating\" y \"Average Rating\" a \"UR,\" \"CR\" y \"AR\" Luego actualizar el dataframe con el parametro \"inplace\"\n"
   ]
  },
  {
   "cell_type": "code",
   "execution_count": null,
   "id": "3df4c15c",
   "metadata": {},
   "outputs": [],
   "source": [
    "# mostrar 5 primeras filas\n"
   ]
  },
  {
   "cell_type": "code",
   "execution_count": null,
   "id": "cadf8f92",
   "metadata": {},
   "outputs": [],
   "source": [
    "# seleccionar solo columnas \"Name\", \"Author\", \"UR\", \"CR\", \"AR\" y \"Year\" y actualizar el dataframe\n"
   ]
  },
  {
   "cell_type": "markdown",
   "id": "6c458cf9",
   "metadata": {},
   "source": [
    "# Ordenar el dataframe"
   ]
  },
  {
   "cell_type": "code",
   "execution_count": null,
   "id": "50a7d2a8",
   "metadata": {},
   "outputs": [],
   "source": [
    "# ordenar el dataframe en forma descendente segun las columnas \"UR\" y \"CR\"\n"
   ]
  }
 ],
 "metadata": {
  "kernelspec": {
   "display_name": "Python 3",
   "language": "python",
   "name": "python3"
  },
  "language_info": {
   "codemirror_mode": {
    "name": "ipython",
    "version": 3
   },
   "file_extension": ".py",
   "mimetype": "text/x-python",
   "name": "python",
   "nbconvert_exporter": "python",
   "pygments_lexer": "ipython3",
   "version": "3.8.8"
  },
  "toc": {
   "base_numbering": 1,
   "nav_menu": {},
   "number_sections": true,
   "sideBar": true,
   "skip_h1_title": false,
   "title_cell": "Table of Contents",
   "title_sidebar": "Contents",
   "toc_cell": false,
   "toc_position": {},
   "toc_section_display": true,
   "toc_window_display": false
  }
 },
 "nbformat": 4,
 "nbformat_minor": 5
}
